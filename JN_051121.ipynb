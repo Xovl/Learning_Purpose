print ("2021-11-05")

import datetime

now = datetime.datetime.now()

print (now.strftime("%Y-%m-%d"))
