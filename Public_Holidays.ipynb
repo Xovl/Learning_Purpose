{
 "cells": [
  {
   "cell_type": "markdown",
   "metadata": {},
   "source": [
    "# **Data Cleaning Exercise**"
   ]
  },
  {
   "cell_type": "markdown",
   "metadata": {},
   "source": [
    "## **1. Import Data**"
   ]
  },
  {
   "cell_type": "code",
   "execution_count": 56,
   "metadata": {},
   "outputs": [],
   "source": [
    "# Import our packages\n",
    "import pandas as pd"
   ]
  },
  {
   "cell_type": "code",
   "execution_count": 57,
   "metadata": {},
   "outputs": [
    {
     "name": "stdout",
     "output_type": "stream",
     "text": [
      "(775, 4)\n"
     ]
    },
    {
     "data": {
      "text/html": [
       "<div>\n",
       "<style scoped>\n",
       "    .dataframe tbody tr th:only-of-type {\n",
       "        vertical-align: middle;\n",
       "    }\n",
       "\n",
       "    .dataframe tbody tr th {\n",
       "        vertical-align: top;\n",
       "    }\n",
       "\n",
       "    .dataframe thead th {\n",
       "        text-align: right;\n",
       "    }\n",
       "</style>\n",
       "<table border=\"1\" class=\"dataframe\">\n",
       "  <thead>\n",
       "    <tr style=\"text-align: right;\">\n",
       "      <th></th>\n",
       "      <th>region</th>\n",
       "      <th>date</th>\n",
       "      <th>name</th>\n",
       "      <th>comment</th>\n",
       "    </tr>\n",
       "  </thead>\n",
       "  <tbody>\n",
       "    <tr>\n",
       "      <th>0</th>\n",
       "      <td>ACT</td>\n",
       "      <td>2014-01-01</td>\n",
       "      <td>New Years Day</td>\n",
       "      <td>None</td>\n",
       "    </tr>\n",
       "    <tr>\n",
       "      <th>1</th>\n",
       "      <td>ACT</td>\n",
       "      <td>2014-01-27</td>\n",
       "      <td>Australia Day Sub</td>\n",
       "      <td>None</td>\n",
       "    </tr>\n",
       "    <tr>\n",
       "      <th>2</th>\n",
       "      <td>ACT</td>\n",
       "      <td>2014-03-10</td>\n",
       "      <td>Canberra Day -RD</td>\n",
       "      <td>None</td>\n",
       "    </tr>\n",
       "    <tr>\n",
       "      <th>3</th>\n",
       "      <td>ACT</td>\n",
       "      <td>2014-04-18</td>\n",
       "      <td>Good Friday</td>\n",
       "      <td>None</td>\n",
       "    </tr>\n",
       "    <tr>\n",
       "      <th>4</th>\n",
       "      <td>ACT</td>\n",
       "      <td>2014-04-19</td>\n",
       "      <td>Easter Saturday</td>\n",
       "      <td>None</td>\n",
       "    </tr>\n",
       "  </tbody>\n",
       "</table>\n",
       "</div>"
      ],
      "text/plain": [
       "  region       date               name comment\n",
       "0    ACT 2014-01-01      New Years Day    None\n",
       "1    ACT 2014-01-27  Australia Day Sub    None\n",
       "2    ACT 2014-03-10   Canberra Day -RD    None\n",
       "3    ACT 2014-04-18        Good Friday    None\n",
       "4    ACT 2014-04-19    Easter Saturday    None"
      ]
     },
     "execution_count": 57,
     "metadata": {},
     "output_type": "execute_result"
    }
   ],
   "source": [
    "# Read the excel file\n",
    "data = pd.read_excel(\"messy_phol.xlsx\")\n",
    "# Print number of rows and columns\n",
    "print(data.shape)\n",
    "# Print the output to check the data\n",
    "data.head()"
   ]
  },
  {
   "cell_type": "code",
   "execution_count": 58,
   "metadata": {},
   "outputs": [
    {
     "data": {
      "text/plain": [
       "region             object\n",
       "date       datetime64[ns]\n",
       "name               object\n",
       "comment            object\n",
       "dtype: object"
      ]
     },
     "execution_count": 58,
     "metadata": {},
     "output_type": "execute_result"
    }
   ],
   "source": [
    "# Check what type the data is\n",
    "data.dtypes"
   ]
  },
  {
   "cell_type": "markdown",
   "metadata": {},
   "source": [
    "## **2. Cleaning Data**"
   ]
  },
  {
   "cell_type": "markdown",
   "metadata": {},
   "source": [
    "### **2.1. Format Columns**"
   ]
  },
  {
   "cell_type": "code",
   "execution_count": 59,
   "metadata": {},
   "outputs": [],
   "source": [
    "# Remove last column\n",
    "data.drop(\"comment\", axis=1, inplace=True)\n",
    "# Insert date and time dates\n",
    "data.insert(2, \"public_holiday_end\", \"\")\n",
    "data.insert(2, \"public_holiday_start\", \"\")\n",
    "data.insert(2, \"date_week_day\", \"\")\n",
    "data.insert(2, \"date_week_number\", \"\")\n",
    "# Rename the column headers\n",
    "data.rename({\"region\": \"phol_location\", \"date\": \"public_holiday_date\", \"name\": \"public_holiday\"}, axis=1, inplace=True)"
   ]
  },
  {
   "cell_type": "code",
   "execution_count": 60,
   "metadata": {},
   "outputs": [
    {
     "name": "stdout",
     "output_type": "stream",
     "text": [
      "(774, 7)\n"
     ]
    },
    {
     "data": {
      "text/html": [
       "<div>\n",
       "<style scoped>\n",
       "    .dataframe tbody tr th:only-of-type {\n",
       "        vertical-align: middle;\n",
       "    }\n",
       "\n",
       "    .dataframe tbody tr th {\n",
       "        vertical-align: top;\n",
       "    }\n",
       "\n",
       "    .dataframe thead th {\n",
       "        text-align: right;\n",
       "    }\n",
       "</style>\n",
       "<table border=\"1\" class=\"dataframe\">\n",
       "  <thead>\n",
       "    <tr style=\"text-align: right;\">\n",
       "      <th></th>\n",
       "      <th>phol_location</th>\n",
       "      <th>public_holiday_date</th>\n",
       "      <th>date_week_number</th>\n",
       "      <th>date_week_day</th>\n",
       "      <th>public_holiday_start</th>\n",
       "      <th>public_holiday_end</th>\n",
       "      <th>public_holiday</th>\n",
       "    </tr>\n",
       "  </thead>\n",
       "  <tbody>\n",
       "    <tr>\n",
       "      <th>0</th>\n",
       "      <td>ACT</td>\n",
       "      <td>2014-01-01</td>\n",
       "      <td></td>\n",
       "      <td></td>\n",
       "      <td></td>\n",
       "      <td></td>\n",
       "      <td>New Years Day</td>\n",
       "    </tr>\n",
       "    <tr>\n",
       "      <th>1</th>\n",
       "      <td>ACT</td>\n",
       "      <td>2014-01-27</td>\n",
       "      <td></td>\n",
       "      <td></td>\n",
       "      <td></td>\n",
       "      <td></td>\n",
       "      <td>Australia Day Sub</td>\n",
       "    </tr>\n",
       "    <tr>\n",
       "      <th>2</th>\n",
       "      <td>ACT</td>\n",
       "      <td>2014-03-10</td>\n",
       "      <td></td>\n",
       "      <td></td>\n",
       "      <td></td>\n",
       "      <td></td>\n",
       "      <td>Canberra Day -RD</td>\n",
       "    </tr>\n",
       "    <tr>\n",
       "      <th>3</th>\n",
       "      <td>ACT</td>\n",
       "      <td>2014-04-18</td>\n",
       "      <td></td>\n",
       "      <td></td>\n",
       "      <td></td>\n",
       "      <td></td>\n",
       "      <td>Good Friday</td>\n",
       "    </tr>\n",
       "    <tr>\n",
       "      <th>4</th>\n",
       "      <td>ACT</td>\n",
       "      <td>2014-04-19</td>\n",
       "      <td></td>\n",
       "      <td></td>\n",
       "      <td></td>\n",
       "      <td></td>\n",
       "      <td>Easter Saturday</td>\n",
       "    </tr>\n",
       "  </tbody>\n",
       "</table>\n",
       "</div>"
      ],
      "text/plain": [
       "  phol_location public_holiday_date date_week_number date_week_day  \\\n",
       "0           ACT          2014-01-01                                  \n",
       "1           ACT          2014-01-27                                  \n",
       "2           ACT          2014-03-10                                  \n",
       "3           ACT          2014-04-18                                  \n",
       "4           ACT          2014-04-19                                  \n",
       "\n",
       "  public_holiday_start public_holiday_end     public_holiday  \n",
       "0                                              New Years Day  \n",
       "1                                          Australia Day Sub  \n",
       "2                                           Canberra Day -RD  \n",
       "3                                                Good Friday  \n",
       "4                                            Easter Saturday  "
      ]
     },
     "execution_count": 60,
     "metadata": {},
     "output_type": "execute_result"
    }
   ],
   "source": [
    "# Remove duplcates\n",
    "data.drop_duplicates(inplace=True)\n",
    "# Print number of rows and columns\n",
    "print(data.shape)\n",
    "# Print the output to check the data\n",
    "data.head()"
   ]
  },
  {
   "cell_type": "markdown",
   "metadata": {},
   "source": [
    "### **2.2 Missing Data**"
   ]
  },
  {
   "cell_type": "markdown",
   "metadata": {},
   "source": [
    "#### **2.2.1. Region**"
   ]
  },
  {
   "cell_type": "code",
   "execution_count": 61,
   "metadata": {},
   "outputs": [
    {
     "data": {
      "text/html": [
       "<div>\n",
       "<style scoped>\n",
       "    .dataframe tbody tr th:only-of-type {\n",
       "        vertical-align: middle;\n",
       "    }\n",
       "\n",
       "    .dataframe tbody tr th {\n",
       "        vertical-align: top;\n",
       "    }\n",
       "\n",
       "    .dataframe thead th {\n",
       "        text-align: right;\n",
       "    }\n",
       "</style>\n",
       "<table border=\"1\" class=\"dataframe\">\n",
       "  <thead>\n",
       "    <tr style=\"text-align: right;\">\n",
       "      <th></th>\n",
       "      <th>phol_location</th>\n",
       "      <th>public_holiday_date</th>\n",
       "      <th>date_week_number</th>\n",
       "      <th>date_week_day</th>\n",
       "      <th>public_holiday_start</th>\n",
       "      <th>public_holiday_end</th>\n",
       "      <th>public_holiday</th>\n",
       "    </tr>\n",
       "  </thead>\n",
       "  <tbody>\n",
       "    <tr>\n",
       "      <th>470</th>\n",
       "      <td>NaN</td>\n",
       "      <td>2019-04-25</td>\n",
       "      <td></td>\n",
       "      <td></td>\n",
       "      <td></td>\n",
       "      <td></td>\n",
       "      <td>ANZAC Day</td>\n",
       "    </tr>\n",
       "  </tbody>\n",
       "</table>\n",
       "</div>"
      ],
      "text/plain": [
       "    phol_location public_holiday_date date_week_number date_week_day  \\\n",
       "470           NaN          2019-04-25                                  \n",
       "\n",
       "    public_holiday_start public_holiday_end public_holiday  \n",
       "470                                              ANZAC Day  "
      ]
     },
     "execution_count": 61,
     "metadata": {},
     "output_type": "execute_result"
    }
   ],
   "source": [
    "# Check if there are any missing regions\n",
    "data[data[\"phol_location\"].isnull()]"
   ]
  },
  {
   "cell_type": "code",
   "execution_count": 62,
   "metadata": {},
   "outputs": [
    {
     "data": {
      "text/html": [
       "<div>\n",
       "<style scoped>\n",
       "    .dataframe tbody tr th:only-of-type {\n",
       "        vertical-align: middle;\n",
       "    }\n",
       "\n",
       "    .dataframe tbody tr th {\n",
       "        vertical-align: top;\n",
       "    }\n",
       "\n",
       "    .dataframe thead th {\n",
       "        text-align: right;\n",
       "    }\n",
       "</style>\n",
       "<table border=\"1\" class=\"dataframe\">\n",
       "  <thead>\n",
       "    <tr style=\"text-align: right;\">\n",
       "      <th></th>\n",
       "      <th>phol_location</th>\n",
       "      <th>public_holiday_date</th>\n",
       "      <th>date_week_number</th>\n",
       "      <th>date_week_day</th>\n",
       "      <th>public_holiday_start</th>\n",
       "      <th>public_holiday_end</th>\n",
       "      <th>public_holiday</th>\n",
       "    </tr>\n",
       "  </thead>\n",
       "  <tbody>\n",
       "    <tr>\n",
       "      <th>467</th>\n",
       "      <td>TAS</td>\n",
       "      <td>2019-03-11</td>\n",
       "      <td></td>\n",
       "      <td></td>\n",
       "      <td></td>\n",
       "      <td></td>\n",
       "      <td>Labour Day VIC - TAS -RD</td>\n",
       "    </tr>\n",
       "    <tr>\n",
       "      <th>468</th>\n",
       "      <td>TAS</td>\n",
       "      <td>2019-04-19</td>\n",
       "      <td></td>\n",
       "      <td></td>\n",
       "      <td></td>\n",
       "      <td></td>\n",
       "      <td>Good Friday</td>\n",
       "    </tr>\n",
       "    <tr>\n",
       "      <th>469</th>\n",
       "      <td>TAS</td>\n",
       "      <td>2019-04-22</td>\n",
       "      <td></td>\n",
       "      <td></td>\n",
       "      <td></td>\n",
       "      <td></td>\n",
       "      <td>Easter Monday</td>\n",
       "    </tr>\n",
       "    <tr>\n",
       "      <th>470</th>\n",
       "      <td>NaN</td>\n",
       "      <td>2019-04-25</td>\n",
       "      <td></td>\n",
       "      <td></td>\n",
       "      <td></td>\n",
       "      <td></td>\n",
       "      <td>ANZAC Day</td>\n",
       "    </tr>\n",
       "    <tr>\n",
       "      <th>471</th>\n",
       "      <td>TAS</td>\n",
       "      <td>2019-06-10</td>\n",
       "      <td></td>\n",
       "      <td></td>\n",
       "      <td></td>\n",
       "      <td></td>\n",
       "      <td>Queens Birthday exc WA -RD</td>\n",
       "    </tr>\n",
       "    <tr>\n",
       "      <th>472</th>\n",
       "      <td>TAS</td>\n",
       "      <td>2019-12-25</td>\n",
       "      <td></td>\n",
       "      <td></td>\n",
       "      <td></td>\n",
       "      <td></td>\n",
       "      <td>Christmas Day</td>\n",
       "    </tr>\n",
       "  </tbody>\n",
       "</table>\n",
       "</div>"
      ],
      "text/plain": [
       "    phol_location public_holiday_date date_week_number date_week_day  \\\n",
       "467           TAS          2019-03-11                                  \n",
       "468           TAS          2019-04-19                                  \n",
       "469           TAS          2019-04-22                                  \n",
       "470           NaN          2019-04-25                                  \n",
       "471           TAS          2019-06-10                                  \n",
       "472           TAS          2019-12-25                                  \n",
       "\n",
       "    public_holiday_start public_holiday_end              public_holiday  \n",
       "467                                            Labour Day VIC - TAS -RD  \n",
       "468                                                         Good Friday  \n",
       "469                                                       Easter Monday  \n",
       "470                                                           ANZAC Day  \n",
       "471                                          Queens Birthday exc WA -RD  \n",
       "472                                                       Christmas Day  "
      ]
     },
     "execution_count": 62,
     "metadata": {},
     "output_type": "execute_result"
    }
   ],
   "source": [
    "# See where the missing region is located\n",
    "data.iloc[467:473]"
   ]
  },
  {
   "cell_type": "code",
   "execution_count": 63,
   "metadata": {},
   "outputs": [
    {
     "data": {
      "text/html": [
       "<div>\n",
       "<style scoped>\n",
       "    .dataframe tbody tr th:only-of-type {\n",
       "        vertical-align: middle;\n",
       "    }\n",
       "\n",
       "    .dataframe tbody tr th {\n",
       "        vertical-align: top;\n",
       "    }\n",
       "\n",
       "    .dataframe thead th {\n",
       "        text-align: right;\n",
       "    }\n",
       "</style>\n",
       "<table border=\"1\" class=\"dataframe\">\n",
       "  <thead>\n",
       "    <tr style=\"text-align: right;\">\n",
       "      <th></th>\n",
       "      <th>phol_location</th>\n",
       "      <th>public_holiday_date</th>\n",
       "      <th>date_week_number</th>\n",
       "      <th>date_week_day</th>\n",
       "      <th>public_holiday_start</th>\n",
       "      <th>public_holiday_end</th>\n",
       "      <th>public_holiday</th>\n",
       "    </tr>\n",
       "  </thead>\n",
       "  <tbody>\n",
       "  </tbody>\n",
       "</table>\n",
       "</div>"
      ],
      "text/plain": [
       "Empty DataFrame\n",
       "Columns: [phol_location, public_holiday_date, date_week_number, date_week_day, public_holiday_start, public_holiday_end, public_holiday]\n",
       "Index: []"
      ]
     },
     "execution_count": 63,
     "metadata": {},
     "output_type": "execute_result"
    }
   ],
   "source": [
    "# Fill null region\n",
    "data[\"phol_location\"] = data[\"phol_location\"].fillna(\"TAS\")\n",
    "# Check to see no missing regions\n",
    "data[data[\"phol_location\"].isnull()]"
   ]
  },
  {
   "cell_type": "markdown",
   "metadata": {},
   "source": [
    "#### **2.2.2 Date**"
   ]
  },
  {
   "cell_type": "code",
   "execution_count": 64,
   "metadata": {},
   "outputs": [
    {
     "data": {
      "text/html": [
       "<div>\n",
       "<style scoped>\n",
       "    .dataframe tbody tr th:only-of-type {\n",
       "        vertical-align: middle;\n",
       "    }\n",
       "\n",
       "    .dataframe tbody tr th {\n",
       "        vertical-align: top;\n",
       "    }\n",
       "\n",
       "    .dataframe thead th {\n",
       "        text-align: right;\n",
       "    }\n",
       "</style>\n",
       "<table border=\"1\" class=\"dataframe\">\n",
       "  <thead>\n",
       "    <tr style=\"text-align: right;\">\n",
       "      <th></th>\n",
       "      <th>phol_location</th>\n",
       "      <th>public_holiday_date</th>\n",
       "      <th>date_week_number</th>\n",
       "      <th>date_week_day</th>\n",
       "      <th>public_holiday_start</th>\n",
       "      <th>public_holiday_end</th>\n",
       "      <th>public_holiday</th>\n",
       "    </tr>\n",
       "  </thead>\n",
       "  <tbody>\n",
       "    <tr>\n",
       "      <th>662</th>\n",
       "      <td>WA</td>\n",
       "      <td>NaT</td>\n",
       "      <td></td>\n",
       "      <td></td>\n",
       "      <td></td>\n",
       "      <td></td>\n",
       "      <td>Queens Birthday WA -RD</td>\n",
       "    </tr>\n",
       "  </tbody>\n",
       "</table>\n",
       "</div>"
      ],
      "text/plain": [
       "    phol_location public_holiday_date date_week_number date_week_day  \\\n",
       "662            WA                 NaT                                  \n",
       "\n",
       "    public_holiday_start public_holiday_end          public_holiday  \n",
       "662                                          Queens Birthday WA -RD  "
      ]
     },
     "execution_count": 64,
     "metadata": {},
     "output_type": "execute_result"
    }
   ],
   "source": [
    "# Check if there are any missing dates\n",
    "data[data[\"public_holiday_date\"].isnull()]"
   ]
  },
  {
   "cell_type": "code",
   "execution_count": 65,
   "metadata": {},
   "outputs": [
    {
     "data": {
      "text/html": [
       "<div>\n",
       "<style scoped>\n",
       "    .dataframe tbody tr th:only-of-type {\n",
       "        vertical-align: middle;\n",
       "    }\n",
       "\n",
       "    .dataframe tbody tr th {\n",
       "        vertical-align: top;\n",
       "    }\n",
       "\n",
       "    .dataframe thead th {\n",
       "        text-align: right;\n",
       "    }\n",
       "</style>\n",
       "<table border=\"1\" class=\"dataframe\">\n",
       "  <thead>\n",
       "    <tr style=\"text-align: right;\">\n",
       "      <th></th>\n",
       "      <th>phol_location</th>\n",
       "      <th>public_holiday_date</th>\n",
       "      <th>date_week_number</th>\n",
       "      <th>date_week_day</th>\n",
       "      <th>public_holiday_start</th>\n",
       "      <th>public_holiday_end</th>\n",
       "      <th>public_holiday</th>\n",
       "    </tr>\n",
       "  </thead>\n",
       "  <tbody>\n",
       "    <tr>\n",
       "      <th>659</th>\n",
       "      <td>WA</td>\n",
       "      <td>2020-04-25</td>\n",
       "      <td></td>\n",
       "      <td></td>\n",
       "      <td></td>\n",
       "      <td></td>\n",
       "      <td>ANZAC Day</td>\n",
       "    </tr>\n",
       "    <tr>\n",
       "      <th>660</th>\n",
       "      <td>WA</td>\n",
       "      <td>2020-04-27</td>\n",
       "      <td></td>\n",
       "      <td></td>\n",
       "      <td></td>\n",
       "      <td></td>\n",
       "      <td>ANZAC Day Add</td>\n",
       "    </tr>\n",
       "    <tr>\n",
       "      <th>661</th>\n",
       "      <td>WA</td>\n",
       "      <td>2020-06-01</td>\n",
       "      <td></td>\n",
       "      <td></td>\n",
       "      <td></td>\n",
       "      <td></td>\n",
       "      <td>Western Australia Day</td>\n",
       "    </tr>\n",
       "    <tr>\n",
       "      <th>662</th>\n",
       "      <td>WA</td>\n",
       "      <td>NaT</td>\n",
       "      <td></td>\n",
       "      <td></td>\n",
       "      <td></td>\n",
       "      <td></td>\n",
       "      <td>Queens Birthday WA -RD</td>\n",
       "    </tr>\n",
       "    <tr>\n",
       "      <th>663</th>\n",
       "      <td>WA</td>\n",
       "      <td>2020-12-25</td>\n",
       "      <td></td>\n",
       "      <td></td>\n",
       "      <td></td>\n",
       "      <td></td>\n",
       "      <td>Christmas Day</td>\n",
       "    </tr>\n",
       "    <tr>\n",
       "      <th>664</th>\n",
       "      <td>WA</td>\n",
       "      <td>2020-12-26</td>\n",
       "      <td></td>\n",
       "      <td></td>\n",
       "      <td></td>\n",
       "      <td></td>\n",
       "      <td>Boxing Day - Proclamation Day</td>\n",
       "    </tr>\n",
       "  </tbody>\n",
       "</table>\n",
       "</div>"
      ],
      "text/plain": [
       "    phol_location public_holiday_date date_week_number date_week_day  \\\n",
       "659            WA          2020-04-25                                  \n",
       "660            WA          2020-04-27                                  \n",
       "661            WA          2020-06-01                                  \n",
       "662            WA                 NaT                                  \n",
       "663            WA          2020-12-25                                  \n",
       "664            WA          2020-12-26                                  \n",
       "\n",
       "    public_holiday_start public_holiday_end                 public_holiday  \n",
       "659                                                              ANZAC Day  \n",
       "660                                                          ANZAC Day Add  \n",
       "661                                                  Western Australia Day  \n",
       "662                                                 Queens Birthday WA -RD  \n",
       "663                                                          Christmas Day  \n",
       "664                                          Boxing Day - Proclamation Day  "
      ]
     },
     "execution_count": 65,
     "metadata": {},
     "output_type": "execute_result"
    }
   ],
   "source": [
    "# See where the missing region is located\n",
    "data.iloc[659:665]"
   ]
  },
  {
   "cell_type": "code",
   "execution_count": 66,
   "metadata": {},
   "outputs": [
    {
     "data": {
      "text/html": [
       "<div>\n",
       "<style scoped>\n",
       "    .dataframe tbody tr th:only-of-type {\n",
       "        vertical-align: middle;\n",
       "    }\n",
       "\n",
       "    .dataframe tbody tr th {\n",
       "        vertical-align: top;\n",
       "    }\n",
       "\n",
       "    .dataframe thead th {\n",
       "        text-align: right;\n",
       "    }\n",
       "</style>\n",
       "<table border=\"1\" class=\"dataframe\">\n",
       "  <thead>\n",
       "    <tr style=\"text-align: right;\">\n",
       "      <th></th>\n",
       "      <th>phol_location</th>\n",
       "      <th>public_holiday_date</th>\n",
       "      <th>date_week_number</th>\n",
       "      <th>date_week_day</th>\n",
       "      <th>public_holiday_start</th>\n",
       "      <th>public_holiday_end</th>\n",
       "      <th>public_holiday</th>\n",
       "    </tr>\n",
       "  </thead>\n",
       "  <tbody>\n",
       "  </tbody>\n",
       "</table>\n",
       "</div>"
      ],
      "text/plain": [
       "Empty DataFrame\n",
       "Columns: [phol_location, public_holiday_date, date_week_number, date_week_day, public_holiday_start, public_holiday_end, public_holiday]\n",
       "Index: []"
      ]
     },
     "execution_count": 66,
     "metadata": {},
     "output_type": "execute_result"
    }
   ],
   "source": [
    "# Fill null date\n",
    "data[\"public_holiday_date\"] = data[\"public_holiday_date\"].fillna(\"Monday, June 08, 2020\")\n",
    "# Check to see no missing regions\n",
    "data[data[\"public_holiday_date\"].isnull()]"
   ]
  },
  {
   "cell_type": "markdown",
   "metadata": {},
   "source": [
    "#### **2.2.3. Name**"
   ]
  },
  {
   "cell_type": "code",
   "execution_count": 67,
   "metadata": {},
   "outputs": [
    {
     "data": {
      "text/html": [
       "<div>\n",
       "<style scoped>\n",
       "    .dataframe tbody tr th:only-of-type {\n",
       "        vertical-align: middle;\n",
       "    }\n",
       "\n",
       "    .dataframe tbody tr th {\n",
       "        vertical-align: top;\n",
       "    }\n",
       "\n",
       "    .dataframe thead th {\n",
       "        text-align: right;\n",
       "    }\n",
       "</style>\n",
       "<table border=\"1\" class=\"dataframe\">\n",
       "  <thead>\n",
       "    <tr style=\"text-align: right;\">\n",
       "      <th></th>\n",
       "      <th>phol_location</th>\n",
       "      <th>public_holiday_date</th>\n",
       "      <th>date_week_number</th>\n",
       "      <th>date_week_day</th>\n",
       "      <th>public_holiday_start</th>\n",
       "      <th>public_holiday_end</th>\n",
       "      <th>public_holiday</th>\n",
       "    </tr>\n",
       "  </thead>\n",
       "  <tbody>\n",
       "  </tbody>\n",
       "</table>\n",
       "</div>"
      ],
      "text/plain": [
       "Empty DataFrame\n",
       "Columns: [phol_location, public_holiday_date, date_week_number, date_week_day, public_holiday_start, public_holiday_end, public_holiday]\n",
       "Index: []"
      ]
     },
     "execution_count": 67,
     "metadata": {},
     "output_type": "execute_result"
    }
   ],
   "source": [
    "# Check if there are any missing names\n",
    "data[data[\"public_holiday\"].isnull()]"
   ]
  },
  {
   "cell_type": "code",
   "execution_count": 68,
   "metadata": {},
   "outputs": [
    {
     "data": {
      "text/html": [
       "<div>\n",
       "<style scoped>\n",
       "    .dataframe tbody tr th:only-of-type {\n",
       "        vertical-align: middle;\n",
       "    }\n",
       "\n",
       "    .dataframe tbody tr th {\n",
       "        vertical-align: top;\n",
       "    }\n",
       "\n",
       "    .dataframe thead th {\n",
       "        text-align: right;\n",
       "    }\n",
       "</style>\n",
       "<table border=\"1\" class=\"dataframe\">\n",
       "  <thead>\n",
       "    <tr style=\"text-align: right;\">\n",
       "      <th></th>\n",
       "      <th>phol_location</th>\n",
       "      <th>public_holiday_date</th>\n",
       "      <th>date_week_number</th>\n",
       "      <th>date_week_day</th>\n",
       "      <th>public_holiday_start</th>\n",
       "      <th>public_holiday_end</th>\n",
       "      <th>public_holiday</th>\n",
       "    </tr>\n",
       "  </thead>\n",
       "  <tbody>\n",
       "    <tr>\n",
       "      <th>0</th>\n",
       "      <td>ACT</td>\n",
       "      <td>2014-01-01</td>\n",
       "      <td></td>\n",
       "      <td></td>\n",
       "      <td></td>\n",
       "      <td></td>\n",
       "      <td>New Years Day</td>\n",
       "    </tr>\n",
       "    <tr>\n",
       "      <th>1</th>\n",
       "      <td>ACT</td>\n",
       "      <td>2014-01-27</td>\n",
       "      <td></td>\n",
       "      <td></td>\n",
       "      <td></td>\n",
       "      <td></td>\n",
       "      <td>Australia Day Sub</td>\n",
       "    </tr>\n",
       "    <tr>\n",
       "      <th>2</th>\n",
       "      <td>ACT</td>\n",
       "      <td>2014-03-10</td>\n",
       "      <td></td>\n",
       "      <td></td>\n",
       "      <td></td>\n",
       "      <td></td>\n",
       "      <td>Canberra Day -RD</td>\n",
       "    </tr>\n",
       "    <tr>\n",
       "      <th>3</th>\n",
       "      <td>ACT</td>\n",
       "      <td>2014-04-18</td>\n",
       "      <td></td>\n",
       "      <td></td>\n",
       "      <td></td>\n",
       "      <td></td>\n",
       "      <td>Good Friday</td>\n",
       "    </tr>\n",
       "    <tr>\n",
       "      <th>4</th>\n",
       "      <td>ACT</td>\n",
       "      <td>2014-04-19</td>\n",
       "      <td></td>\n",
       "      <td></td>\n",
       "      <td></td>\n",
       "      <td></td>\n",
       "      <td>Easter Saturday</td>\n",
       "    </tr>\n",
       "  </tbody>\n",
       "</table>\n",
       "</div>"
      ],
      "text/plain": [
       "  phol_location public_holiday_date date_week_number date_week_day  \\\n",
       "0           ACT          2014-01-01                                  \n",
       "1           ACT          2014-01-27                                  \n",
       "2           ACT          2014-03-10                                  \n",
       "3           ACT          2014-04-18                                  \n",
       "4           ACT          2014-04-19                                  \n",
       "\n",
       "  public_holiday_start public_holiday_end     public_holiday  \n",
       "0                                              New Years Day  \n",
       "1                                          Australia Day Sub  \n",
       "2                                           Canberra Day -RD  \n",
       "3                                                Good Friday  \n",
       "4                                            Easter Saturday  "
      ]
     },
     "execution_count": 68,
     "metadata": {},
     "output_type": "execute_result"
    }
   ],
   "source": [
    "# Print the output to check the data\n",
    "data.head()"
   ]
  },
  {
   "cell_type": "markdown",
   "metadata": {},
   "source": [
    "### **2.3. Public Holiday**"
   ]
  },
  {
   "cell_type": "code",
   "execution_count": 69,
   "metadata": {},
   "outputs": [],
   "source": [
    "# Replace sub/add with (additional day)\n",
    "x = \"(additional day)\"\n",
    "data[\"public_holiday\"] = data[\"public_holiday\"].str.replace(\"sub add\", x, case=False)\n",
    "data[\"public_holiday\"] = data[\"public_holiday\"].str.replace(\"sub\", x, case=False)\n",
    "data[\"public_holiday\"] = data[\"public_holiday\"].str.replace(\"Add\", x, case=True)\n",
    "data[\"public_holiday\"] = data[\"public_holiday\"].str.replace(\"ADD\", x, case=True)\n",
    "\n",
    "# Remove substrings\n",
    "data[\"public_holiday\"] = data[\"public_holiday\"].str.replace(\" -RD\", \"\")\n",
    "data[\"public_holiday\"] = data[\"public_holiday\"].str.replace(\" SA\", \"\")\n",
    "data[\"public_holiday\"] = data[\"public_holiday\"].str.replace(\" WA\", \"\")\n",
    "data[\"public_holiday\"] = data[\"public_holiday\"].str.replace(\" QLD\", \"\")\n",
    "data[\"public_holiday\"] = data[\"public_holiday\"].str.replace(\" VIC - TAS\", \"\")\n",
    "data[\"public_holiday\"] = data[\"public_holiday\"].str.replace(\" NSW-ACT-SA\", \"\")\n",
    "data[\"public_holiday\"] = data[\"public_holiday\"].str.replace(\" exc\", \"\")\n",
    "data[\"public_holiday\"] = data[\"public_holiday\"].str.replace(\" 26th\", \"\")\n",
    "data[\"public_holiday\"] = data[\"public_holiday\"].str.replace(\" 7pm - midnight\", \"\")\n",
    "data[\"public_holiday\"] = data[\"public_holiday\"].str.replace(\" - the Saturday following Good Friday\", \"\")\n",
    "data[\"public_holiday\"] = data[\"public_holiday\"].str.replace(\" - Friday\", \"\")\n",
    "data[\"public_holiday\"] = data[\"public_holiday\"].str.replace(\"Friday before \", \"\")\n",
    "data[\"public_holiday\"] = data[\"public_holiday\"].str.replace(\" - type a\", \"\")\n",
    "data[\"public_holiday\"] = data[\"public_holiday\"].str.replace(\" - type b\", \"\")\n",
    "data[\"public_holiday\"] = data[\"public_holiday\"].str.replace(\" - type c\", \"\")\n",
    "\n",
    "# New years\n",
    "data[\"public_holiday\"] = data[\"public_holiday\"].str.replace(\"New Years Day\", \"New Year's Day\")\n",
    "data[\"public_holiday\"] = data[\"public_holiday\"].str.replace(\"New Years Eve\", \"New Year's Eve\")\n",
    "\n",
    "# ANZAC\n",
    "data[\"public_holiday\"] = data[\"public_holiday\"].str.replace(\"Anzac Day\", \"ANZAC Day\")\n",
    "data[\"public_holiday\"] = data[\"public_holiday\"].str.replace(\"ANZ Day - additional day declared\", \"ANZAC Day (additional day)\", regex=True)\n",
    "\n",
    "# Easter\n",
    "data[\"public_holiday\"] = data[\"public_holiday\"].str.replace(\"good\", \"Good\")\n",
    "data[\"public_holiday\"] = data[\"public_holiday\"].str.replace(\"MON\", \"Monday\")\n",
    "data[\"public_holiday\"] = data[\"public_holiday\"].str.replace(\"Saturday before Easter Sunday\", \"Easter Saturday\")\n",
    "\n",
    "# Cup days\n",
    "data[\"public_holiday\"] = data[\"public_holiday\"].str.replace(\"Adelaide Cup Day\", \"Adelaide Cup\")\n",
    "data[\"public_holiday\"] = data[\"public_holiday\"].str.replace(\"Melbourne Cup Day\", \"Melbourne Cup\")\n",
    "\n",
    "#Christmas\n",
    "data[\"public_holiday\"] = data[\"public_holiday\"].str.replace(\"Christmas (additional day)\", \"Christmas Day (additional day)\", regex=True)\n",
    "\n",
    "# Boxing Day\n",
    "data[\"public_holiday\"] = data[\"public_holiday\"].str.replace(\"Boxing Day - Proclamation Day\", \"Boxing Day / Proclamation Day\")\n",
    "data[\"public_holiday\"] = data[\"public_holiday\"].str.replace(\"Boxing Day - \", \"Boxing Day \")"
   ]
  },
  {
   "cell_type": "code",
   "execution_count": 70,
   "metadata": {},
   "outputs": [
    {
     "data": {
      "text/html": [
       "<div>\n",
       "<style scoped>\n",
       "    .dataframe tbody tr th:only-of-type {\n",
       "        vertical-align: middle;\n",
       "    }\n",
       "\n",
       "    .dataframe tbody tr th {\n",
       "        vertical-align: top;\n",
       "    }\n",
       "\n",
       "    .dataframe thead th {\n",
       "        text-align: right;\n",
       "    }\n",
       "</style>\n",
       "<table border=\"1\" class=\"dataframe\">\n",
       "  <thead>\n",
       "    <tr style=\"text-align: right;\">\n",
       "      <th></th>\n",
       "      <th>phol_location</th>\n",
       "      <th>public_holiday_date</th>\n",
       "      <th>date_week_number</th>\n",
       "      <th>date_week_day</th>\n",
       "      <th>public_holiday_start</th>\n",
       "      <th>public_holiday_end</th>\n",
       "      <th>public_holiday</th>\n",
       "    </tr>\n",
       "  </thead>\n",
       "  <tbody>\n",
       "    <tr>\n",
       "      <th>0</th>\n",
       "      <td>ACT</td>\n",
       "      <td>2014-01-01</td>\n",
       "      <td></td>\n",
       "      <td></td>\n",
       "      <td></td>\n",
       "      <td></td>\n",
       "      <td>New Year's Day</td>\n",
       "    </tr>\n",
       "    <tr>\n",
       "      <th>1</th>\n",
       "      <td>ACT</td>\n",
       "      <td>2014-01-27</td>\n",
       "      <td></td>\n",
       "      <td></td>\n",
       "      <td></td>\n",
       "      <td></td>\n",
       "      <td>Australia Day (additional day)</td>\n",
       "    </tr>\n",
       "    <tr>\n",
       "      <th>2</th>\n",
       "      <td>ACT</td>\n",
       "      <td>2014-03-10</td>\n",
       "      <td></td>\n",
       "      <td></td>\n",
       "      <td></td>\n",
       "      <td></td>\n",
       "      <td>Canberra Day</td>\n",
       "    </tr>\n",
       "    <tr>\n",
       "      <th>3</th>\n",
       "      <td>ACT</td>\n",
       "      <td>2014-04-18</td>\n",
       "      <td></td>\n",
       "      <td></td>\n",
       "      <td></td>\n",
       "      <td></td>\n",
       "      <td>Good Friday</td>\n",
       "    </tr>\n",
       "    <tr>\n",
       "      <th>4</th>\n",
       "      <td>ACT</td>\n",
       "      <td>2014-04-19</td>\n",
       "      <td></td>\n",
       "      <td></td>\n",
       "      <td></td>\n",
       "      <td></td>\n",
       "      <td>Easter Saturday</td>\n",
       "    </tr>\n",
       "  </tbody>\n",
       "</table>\n",
       "</div>"
      ],
      "text/plain": [
       "  phol_location public_holiday_date date_week_number date_week_day  \\\n",
       "0           ACT          2014-01-01                                  \n",
       "1           ACT          2014-01-27                                  \n",
       "2           ACT          2014-03-10                                  \n",
       "3           ACT          2014-04-18                                  \n",
       "4           ACT          2014-04-19                                  \n",
       "\n",
       "  public_holiday_start public_holiday_end                  public_holiday  \n",
       "0                                                          New Year's Day  \n",
       "1                                          Australia Day (additional day)  \n",
       "2                                                            Canberra Day  \n",
       "3                                                             Good Friday  \n",
       "4                                                         Easter Saturday  "
      ]
     },
     "execution_count": 70,
     "metadata": {},
     "output_type": "execute_result"
    }
   ],
   "source": [
    "# Print the output to check the data\n",
    "data.head()"
   ]
  },
  {
   "cell_type": "markdown",
   "metadata": {},
   "source": [
    "### **2.4. Date**"
   ]
  },
  {
   "cell_type": "code",
   "execution_count": 71,
   "metadata": {},
   "outputs": [],
   "source": [
    "# States and holidays that start later\n",
    "States = [\"NT\", \"SA\"]\n",
    "Holidays = [\"Christmas Eve\", \"New Year's Eve\"]\n",
    "\n",
    "data[\"date_week_number\"] = data[\"public_holiday_date\"].dt.isocalendar().week\n",
    "\n",
    "data[\"date_week_day\"] = data[\"public_holiday_date\"].dt.day_name()\n",
    "\n",
    "# Add general start times for the dates\n",
    "data[\"public_holiday_start\"] = data[\"public_holiday_date\"]\n",
    "# Add seven hours for NT and SA for Xmas and NY Eve\n",
    "data.loc[data['phol_location'].isin(States) & data['public_holiday'].isin(Holidays), \"public_holiday_start\"] = data[\"public_holiday_date\"] + pd.to_timedelta(19, unit='h')\n",
    "\n",
    "# Add general end times for the dates\n",
    "data[\"public_holiday_end\"] = data[\"public_holiday_date\"] + pd.to_timedelta(23, unit='h') + pd.to_timedelta(59, unit='m') + pd.to_timedelta(59, unit='s')"
   ]
  },
  {
   "cell_type": "code",
   "execution_count": 72,
   "metadata": {},
   "outputs": [
    {
     "data": {
      "text/html": [
       "<div>\n",
       "<style scoped>\n",
       "    .dataframe tbody tr th:only-of-type {\n",
       "        vertical-align: middle;\n",
       "    }\n",
       "\n",
       "    .dataframe tbody tr th {\n",
       "        vertical-align: top;\n",
       "    }\n",
       "\n",
       "    .dataframe thead th {\n",
       "        text-align: right;\n",
       "    }\n",
       "</style>\n",
       "<table border=\"1\" class=\"dataframe\">\n",
       "  <thead>\n",
       "    <tr style=\"text-align: right;\">\n",
       "      <th></th>\n",
       "      <th>phol_location</th>\n",
       "      <th>public_holiday_date</th>\n",
       "      <th>date_week_number</th>\n",
       "      <th>date_week_day</th>\n",
       "      <th>public_holiday_start</th>\n",
       "      <th>public_holiday_end</th>\n",
       "      <th>public_holiday</th>\n",
       "    </tr>\n",
       "  </thead>\n",
       "  <tbody>\n",
       "    <tr>\n",
       "      <th>0</th>\n",
       "      <td>ACT</td>\n",
       "      <td>2014-01-01</td>\n",
       "      <td>1</td>\n",
       "      <td>Wednesday</td>\n",
       "      <td>2014-01-01</td>\n",
       "      <td>2014-01-01 23:59:59</td>\n",
       "      <td>New Year's Day</td>\n",
       "    </tr>\n",
       "    <tr>\n",
       "      <th>1</th>\n",
       "      <td>ACT</td>\n",
       "      <td>2014-01-27</td>\n",
       "      <td>5</td>\n",
       "      <td>Monday</td>\n",
       "      <td>2014-01-27</td>\n",
       "      <td>2014-01-27 23:59:59</td>\n",
       "      <td>Australia Day (additional day)</td>\n",
       "    </tr>\n",
       "    <tr>\n",
       "      <th>2</th>\n",
       "      <td>ACT</td>\n",
       "      <td>2014-03-10</td>\n",
       "      <td>11</td>\n",
       "      <td>Monday</td>\n",
       "      <td>2014-03-10</td>\n",
       "      <td>2014-03-10 23:59:59</td>\n",
       "      <td>Canberra Day</td>\n",
       "    </tr>\n",
       "    <tr>\n",
       "      <th>3</th>\n",
       "      <td>ACT</td>\n",
       "      <td>2014-04-18</td>\n",
       "      <td>16</td>\n",
       "      <td>Friday</td>\n",
       "      <td>2014-04-18</td>\n",
       "      <td>2014-04-18 23:59:59</td>\n",
       "      <td>Good Friday</td>\n",
       "    </tr>\n",
       "    <tr>\n",
       "      <th>4</th>\n",
       "      <td>ACT</td>\n",
       "      <td>2014-04-19</td>\n",
       "      <td>16</td>\n",
       "      <td>Saturday</td>\n",
       "      <td>2014-04-19</td>\n",
       "      <td>2014-04-19 23:59:59</td>\n",
       "      <td>Easter Saturday</td>\n",
       "    </tr>\n",
       "  </tbody>\n",
       "</table>\n",
       "</div>"
      ],
      "text/plain": [
       "  phol_location public_holiday_date  date_week_number date_week_day  \\\n",
       "0           ACT          2014-01-01                 1     Wednesday   \n",
       "1           ACT          2014-01-27                 5        Monday   \n",
       "2           ACT          2014-03-10                11        Monday   \n",
       "3           ACT          2014-04-18                16        Friday   \n",
       "4           ACT          2014-04-19                16      Saturday   \n",
       "\n",
       "  public_holiday_start  public_holiday_end                  public_holiday  \n",
       "0           2014-01-01 2014-01-01 23:59:59                  New Year's Day  \n",
       "1           2014-01-27 2014-01-27 23:59:59  Australia Day (additional day)  \n",
       "2           2014-03-10 2014-03-10 23:59:59                    Canberra Day  \n",
       "3           2014-04-18 2014-04-18 23:59:59                     Good Friday  \n",
       "4           2014-04-19 2014-04-19 23:59:59                 Easter Saturday  "
      ]
     },
     "execution_count": 72,
     "metadata": {},
     "output_type": "execute_result"
    }
   ],
   "source": [
    "# Print the output to check the data\n",
    "data.head()"
   ]
  },
  {
   "cell_type": "markdown",
   "metadata": {},
   "source": [
    "## **3. Remediation Filter**"
   ]
  },
  {
   "cell_type": "code",
   "execution_count": 73,
   "metadata": {},
   "outputs": [],
   "source": [
    "# Remediation period\n",
    "data = data[(data[\"public_holiday_date\"] >= \"2019-01-01\") & (data[\"public_holiday_date\"] <= \"2021-12-31\")]"
   ]
  },
  {
   "cell_type": "code",
   "execution_count": 74,
   "metadata": {},
   "outputs": [
    {
     "data": {
      "text/html": [
       "<div>\n",
       "<style scoped>\n",
       "    .dataframe tbody tr th:only-of-type {\n",
       "        vertical-align: middle;\n",
       "    }\n",
       "\n",
       "    .dataframe tbody tr th {\n",
       "        vertical-align: top;\n",
       "    }\n",
       "\n",
       "    .dataframe thead th {\n",
       "        text-align: right;\n",
       "    }\n",
       "</style>\n",
       "<table border=\"1\" class=\"dataframe\">\n",
       "  <thead>\n",
       "    <tr style=\"text-align: right;\">\n",
       "      <th></th>\n",
       "      <th>phol_location</th>\n",
       "      <th>public_holiday_date</th>\n",
       "      <th>date_week_number</th>\n",
       "      <th>date_week_day</th>\n",
       "      <th>public_holiday_start</th>\n",
       "      <th>public_holiday_end</th>\n",
       "      <th>public_holiday</th>\n",
       "    </tr>\n",
       "  </thead>\n",
       "  <tbody>\n",
       "    <tr>\n",
       "      <th>67</th>\n",
       "      <td>ACT</td>\n",
       "      <td>2019-01-01</td>\n",
       "      <td>1</td>\n",
       "      <td>Tuesday</td>\n",
       "      <td>2019-01-01</td>\n",
       "      <td>2019-01-01 23:59:59</td>\n",
       "      <td>New Year's Day</td>\n",
       "    </tr>\n",
       "    <tr>\n",
       "      <th>68</th>\n",
       "      <td>ACT</td>\n",
       "      <td>2019-01-28</td>\n",
       "      <td>5</td>\n",
       "      <td>Monday</td>\n",
       "      <td>2019-01-28</td>\n",
       "      <td>2019-01-28 23:59:59</td>\n",
       "      <td>Australia Day (additional day)</td>\n",
       "    </tr>\n",
       "    <tr>\n",
       "      <th>69</th>\n",
       "      <td>ACT</td>\n",
       "      <td>2019-03-11</td>\n",
       "      <td>11</td>\n",
       "      <td>Monday</td>\n",
       "      <td>2019-03-11</td>\n",
       "      <td>2019-03-11 23:59:59</td>\n",
       "      <td>Canberra Day</td>\n",
       "    </tr>\n",
       "    <tr>\n",
       "      <th>70</th>\n",
       "      <td>ACT</td>\n",
       "      <td>2019-04-19</td>\n",
       "      <td>16</td>\n",
       "      <td>Friday</td>\n",
       "      <td>2019-04-19</td>\n",
       "      <td>2019-04-19 23:59:59</td>\n",
       "      <td>Good Friday</td>\n",
       "    </tr>\n",
       "    <tr>\n",
       "      <th>71</th>\n",
       "      <td>ACT</td>\n",
       "      <td>2019-04-20</td>\n",
       "      <td>16</td>\n",
       "      <td>Saturday</td>\n",
       "      <td>2019-04-20</td>\n",
       "      <td>2019-04-20 23:59:59</td>\n",
       "      <td>Easter Saturday</td>\n",
       "    </tr>\n",
       "  </tbody>\n",
       "</table>\n",
       "</div>"
      ],
      "text/plain": [
       "   phol_location public_holiday_date  date_week_number date_week_day  \\\n",
       "67           ACT          2019-01-01                 1       Tuesday   \n",
       "68           ACT          2019-01-28                 5        Monday   \n",
       "69           ACT          2019-03-11                11        Monday   \n",
       "70           ACT          2019-04-19                16        Friday   \n",
       "71           ACT          2019-04-20                16      Saturday   \n",
       "\n",
       "   public_holiday_start  public_holiday_end                  public_holiday  \n",
       "67           2019-01-01 2019-01-01 23:59:59                  New Year's Day  \n",
       "68           2019-01-28 2019-01-28 23:59:59  Australia Day (additional day)  \n",
       "69           2019-03-11 2019-03-11 23:59:59                    Canberra Day  \n",
       "70           2019-04-19 2019-04-19 23:59:59                     Good Friday  \n",
       "71           2019-04-20 2019-04-20 23:59:59                 Easter Saturday  "
      ]
     },
     "execution_count": 74,
     "metadata": {},
     "output_type": "execute_result"
    }
   ],
   "source": [
    "# Print the output to check the data\n",
    "data.head()"
   ]
  },
  {
   "cell_type": "markdown",
   "metadata": {},
   "source": [
    "## **4. Checks**"
   ]
  },
  {
   "cell_type": "code",
   "execution_count": 75,
   "metadata": {},
   "outputs": [
    {
     "data": {
      "text/plain": [
       "array([\"New Year's Day\", 'Australia Day (additional day)', 'Canberra Day',\n",
       "       'Good Friday', 'Easter Saturday', 'Easter Sunday', 'Easter Monday',\n",
       "       'ANZAC Day', 'Reconciliation Day', 'Queens Birthday', 'Labour Day',\n",
       "       'Christmas Day', 'Boxing Day / Proclamation Day',\n",
       "       'ANZAC Day (additional day)', 'Boxing Day',\n",
       "       'Boxing Day (additional day)', 'Australia Day', \"Queen's Birthday\",\n",
       "       'Christmas (additional day)', 'May Day', 'NT Picnic Day',\n",
       "       'Christmas Eve', \"New Year's Eve\", 'Picnic Day', 'Adelaide Cup',\n",
       "       'Boxing Day / Proclamation Day (additional day)',\n",
       "       'Eight Hours Day', 'Easter Tuesday', 'AFL Grand Final',\n",
       "       'Melbourne Cup', 'Western Australia Day'], dtype=object)"
      ]
     },
     "execution_count": 75,
     "metadata": {},
     "output_type": "execute_result"
    }
   ],
   "source": [
    "# Unique values\n",
    "data[\"public_holiday\"].unique()"
   ]
  },
  {
   "cell_type": "code",
   "execution_count": 76,
   "metadata": {},
   "outputs": [
    {
     "data": {
      "text/plain": [
       "phol_location                   object\n",
       "public_holiday_date     datetime64[ns]\n",
       "date_week_number                UInt32\n",
       "date_week_day                   object\n",
       "public_holiday_start    datetime64[ns]\n",
       "public_holiday_end      datetime64[ns]\n",
       "public_holiday                  object\n",
       "dtype: object"
      ]
     },
     "execution_count": 76,
     "metadata": {},
     "output_type": "execute_result"
    }
   ],
   "source": [
    "# Check what type the data is\n",
    "data.dtypes"
   ]
  },
  {
   "cell_type": "markdown",
   "metadata": {},
   "source": [
    "## **5. Export Data**"
   ]
  },
  {
   "cell_type": "code",
   "execution_count": 77,
   "metadata": {},
   "outputs": [],
   "source": [
    "# Export the excel file\n",
    "data.to_excel(\"messy_phol_cleaned.xlsx\")"
   ]
  }
 ],
 "metadata": {
  "interpreter": {
   "hash": "0ec66bbe782f389edb8615b95e71913b48001538f92dc4d53a6c71a0eff16772"
  },
  "kernelspec": {
   "display_name": "Python 3.9.5 64-bit",
   "language": "python",
   "name": "python3"
  },
  "language_info": {
   "codemirror_mode": {
    "name": "ipython",
    "version": 3
   },
   "file_extension": ".py",
   "mimetype": "text/x-python",
   "name": "python",
   "nbconvert_exporter": "python",
   "pygments_lexer": "ipython3",
   "version": "3.9.5"
  },
  "orig_nbformat": 4
 },
 "nbformat": 4,
 "nbformat_minor": 2
}
